{
 "cells": [
  {
   "cell_type": "markdown",
   "id": "ccf4405a",
   "metadata": {
    "papermill": {
     "duration": 0.013567,
     "end_time": "2024-11-01T08:49:44.908837",
     "exception": false,
     "start_time": "2024-11-01T08:49:44.895270",
     "status": "completed"
    },
    "tags": []
   },
   "source": [
    "# Train Part"
   ]
  },
  {
   "cell_type": "markdown",
   "id": "5a768083",
   "metadata": {
    "papermill": {
     "duration": 0.012911,
     "end_time": "2024-11-01T08:49:44.935297",
     "exception": false,
     "start_time": "2024-11-01T08:49:44.922386",
     "status": "completed"
    },
    "tags": []
   },
   "source": [
    "## Import Libs"
   ]
  },
  {
   "cell_type": "code",
   "execution_count": 1,
   "id": "0806a14a",
   "metadata": {
    "execution": {
     "iopub.execute_input": "2024-11-01T08:49:44.963129Z",
     "iopub.status.busy": "2024-11-01T08:49:44.962772Z",
     "iopub.status.idle": "2024-11-01T08:49:54.299974Z",
     "shell.execute_reply": "2024-11-01T08:49:54.299073Z"
    },
    "papermill": {
     "duration": 9.354085,
     "end_time": "2024-11-01T08:49:54.302753",
     "exception": false,
     "start_time": "2024-11-01T08:49:44.948668",
     "status": "completed"
    },
    "tags": []
   },
   "outputs": [],
   "source": [
    "import os\n",
    "import warnings # 避免一些可以忽略的报错\n",
    "warnings.filterwarnings('ignore')\n",
    "import random\n",
    "import gc\n",
    "import copy\n",
    "import matplotlib.pyplot as plt\n",
    "import numpy as np\n",
    "import pandas as pd\n",
    "from tqdm import tqdm # 进度条\n",
    "import time\n",
    "import math\n",
    "\n",
    "import torch\n",
    "from torch import nn\n",
    "from torch.utils.data import Dataset, DataLoader\n",
    "import torch.nn.functional as F\n",
    "from torch.optim import lr_scheduler # 学习率调度器\n",
    "from torch.optim.lr_scheduler import _LRScheduler, CosineAnnealingLR\n",
    "\n",
    "import timm # 预训练神经网络库，可直接调用预训练好的模型\n",
    "from PIL import Image\n",
    "import albumentations as A # 数据增强库\n",
    "from albumentations.pytorch import ToTensorV2\n",
    "\n",
    "from sklearn.preprocessing import OneHotEncoder # 独热编码\n",
    "\n",
    "from collections import defaultdict # 记录 loss lr 等相关参数的变化\n",
    "# 改变 终端颜色 方便观察\n",
    "from colorama import Fore, Back, Style\n",
    "b_ = Fore.BLUE\n",
    "sr_ = Style.RESET_ALL"
   ]
  },
  {
   "cell_type": "markdown",
   "id": "a2df0976",
   "metadata": {
    "papermill": {
     "duration": 0.012588,
     "end_time": "2024-11-01T08:49:54.328575",
     "exception": false,
     "start_time": "2024-11-01T08:49:54.315987",
     "status": "completed"
    },
    "tags": []
   },
   "source": [
    "## CONFIG"
   ]
  },
  {
   "cell_type": "code",
   "execution_count": 2,
   "id": "5a1c8861",
   "metadata": {
    "execution": {
     "iopub.execute_input": "2024-11-01T08:49:54.355694Z",
     "iopub.status.busy": "2024-11-01T08:49:54.355170Z",
     "iopub.status.idle": "2024-11-01T08:49:54.447781Z",
     "shell.execute_reply": "2024-11-01T08:49:54.446976Z"
    },
    "papermill": {
     "duration": 0.108531,
     "end_time": "2024-11-01T08:49:54.449884",
     "exception": false,
     "start_time": "2024-11-01T08:49:54.341353",
     "status": "completed"
    },
    "tags": []
   },
   "outputs": [],
   "source": [
    "is_debug = False\n",
    "\n",
    "class CONFIG:\n",
    "    seed = 308\n",
    "    n_folds = 5\n",
    "    \n",
    "    epochs = 2 if not is_debug else 1\n",
    "    now_cv = 0\n",
    "    \n",
    "    is_DataParallel = True\n",
    "    img_size = [28, 28]\n",
    "    new_size2train = [32, 32]\n",
    "    train_batch_size = 256\n",
    "    valid_batch_size = 512\n",
    "    test_batch_size = 512\n",
    "    \n",
    "    n_classes = 10\n",
    "\n",
    "    n_workers = os.cpu_count() // 2 # 获取此设备上的 CPU 核心数,使用一半到 DataLoader 的 num_workers\n",
    "    \n",
    "    learning_rate = 1e-3\n",
    "    weight_decay = 1e-6 # 一个参数而已\n",
    "    scheduler = 'CosineAnnealingWithWarmupLR' # 带热身的优化器\n",
    "    # T_max : 经过多少 step 降到最低，训练一批 batch 为一个 step，一般训练到最后降到最低 所以可以根据训练数据量动态调整\n",
    "    T_max = 42000 // n_folds * (n_folds - 1) // train_batch_size * epochs \n",
    "    # 33600为train.csv中80%的数据量个数即训练数据量，一轮 (33600 // train_batch_size)个 batch，一共(33600 // train_batch_size) * epochs 个 batch\n",
    "    min_lr = 1e-6\n",
    "    \n",
    "    \n",
    "    \"\"\"\n",
    "    tf_efficientnet_b0.ns_jft_in1k\n",
    "    tf_efficientnetv2_s.in21k_ft_in1k\n",
    "    \n",
    "    convnext_tiny.fb_in22k_ft_in1k_384\n",
    "    convnext_atto.d2_in1k\n",
    "    \n",
    "    tiny_vit_21m_512.dist_in22k_ft_in1k\n",
    "    # 一般的 vit 模型会限制输入指定大小的图像如 224、384、512等，而 tiny_vit 在拥有优越性能的同时不限制输入大小(推荐使用，但是显存占用会大一点)\n",
    "    \"\"\"\n",
    "    model_names = [\n",
    "        \"tf_efficientnet_b0.ns_jft_in1k\",\n",
    "        \"convnext_atto.d2_in1k\"\n",
    "    ]\n",
    "    ckpt_paths = [\n",
    "        \"/kaggle/input/308-digitrecognizer-base3\",\n",
    "        \"/kaggle/input/308-digitrecognizer-base3-convnext-atto\"\n",
    "    ]\n",
    "    \n",
    "    pool_name = \"\" # 最后的全局池化层使用默认的池化层\n",
    "    timm_pretrained = False # 是否使用预训练模型设置为 True，表示使用预训练模型\n",
    "    \n",
    "    device = torch.device(\"cuda:0\" if torch.cuda.is_available() else \"cpu\")\n",
    "    \n",
    "    my_train_csv = \"/kaggle/input/my-digit-recognizer-5skf-train-csv/my_digit_recognizer_5skf.csv\" # 与 train.csv的唯一区别是多了一列 kfold\n",
    "    test_csv = \"/kaggle/input/digit-recognizer/test.csv\"\n",
    "    img_path = \"/kaggle/input/308-digit-recognizer-img/output\"\n",
    "    ckpt_save_path = \"/kaggle/working/output\""
   ]
  },
  {
   "cell_type": "markdown",
   "id": "fdcc4121",
   "metadata": {
    "papermill": {
     "duration": 0.012641,
     "end_time": "2024-11-01T08:49:54.475516",
     "exception": false,
     "start_time": "2024-11-01T08:49:54.462875",
     "status": "completed"
    },
    "tags": []
   },
   "source": [
    "## Set Random Seed"
   ]
  },
  {
   "cell_type": "code",
   "execution_count": 3,
   "id": "8fc041f7",
   "metadata": {
    "execution": {
     "iopub.execute_input": "2024-11-01T08:49:54.501827Z",
     "iopub.status.busy": "2024-11-01T08:49:54.501520Z",
     "iopub.status.idle": "2024-11-01T08:49:54.513042Z",
     "shell.execute_reply": "2024-11-01T08:49:54.512393Z"
    },
    "papermill": {
     "duration": 0.026881,
     "end_time": "2024-11-01T08:49:54.515040",
     "exception": false,
     "start_time": "2024-11-01T08:49:54.488159",
     "status": "completed"
    },
    "tags": []
   },
   "outputs": [],
   "source": [
    "def set_seed(seed=308):\n",
    "    random.seed(seed)\n",
    "    os.environ[\"PYTHONHASHSEED\"] = str(seed)\n",
    "    np.random.seed(seed)\n",
    "    torch.manual_seed(seed)\n",
    "    torch.cuda.manual_seed(seed)\n",
    "    torch.backends.cudnn.deterministic = True\n",
    "    \n",
    "set_seed(CONFIG.seed) # 固定随机种子，方便结果复现"
   ]
  },
  {
   "cell_type": "markdown",
   "id": "3ba0eb0f",
   "metadata": {
    "papermill": {
     "duration": 0.01223,
     "end_time": "2024-11-01T08:49:54.540222",
     "exception": false,
     "start_time": "2024-11-01T08:49:54.527992",
     "status": "completed"
    },
    "tags": []
   },
   "source": [
    "## Data Progress"
   ]
  },
  {
   "cell_type": "code",
   "execution_count": 4,
   "id": "1b37dc24",
   "metadata": {
    "execution": {
     "iopub.execute_input": "2024-11-01T08:49:54.566768Z",
     "iopub.status.busy": "2024-11-01T08:49:54.566480Z",
     "iopub.status.idle": "2024-11-01T08:50:01.312908Z",
     "shell.execute_reply": "2024-11-01T08:50:01.311896Z"
    },
    "papermill": {
     "duration": 6.762543,
     "end_time": "2024-11-01T08:50:01.315288",
     "exception": false,
     "start_time": "2024-11-01T08:49:54.552745",
     "status": "completed"
    },
    "tags": []
   },
   "outputs": [
    {
     "data": {
      "text/html": [
       "<div>\n",
       "<style scoped>\n",
       "    .dataframe tbody tr th:only-of-type {\n",
       "        vertical-align: middle;\n",
       "    }\n",
       "\n",
       "    .dataframe tbody tr th {\n",
       "        vertical-align: top;\n",
       "    }\n",
       "\n",
       "    .dataframe thead th {\n",
       "        text-align: right;\n",
       "    }\n",
       "</style>\n",
       "<table border=\"1\" class=\"dataframe\">\n",
       "  <thead>\n",
       "    <tr style=\"text-align: right;\">\n",
       "      <th></th>\n",
       "      <th>label</th>\n",
       "      <th>pixel0</th>\n",
       "      <th>pixel1</th>\n",
       "      <th>pixel2</th>\n",
       "      <th>pixel3</th>\n",
       "      <th>pixel4</th>\n",
       "      <th>pixel5</th>\n",
       "      <th>pixel6</th>\n",
       "      <th>pixel7</th>\n",
       "      <th>pixel8</th>\n",
       "      <th>...</th>\n",
       "      <th>pixel775</th>\n",
       "      <th>pixel776</th>\n",
       "      <th>pixel777</th>\n",
       "      <th>pixel778</th>\n",
       "      <th>pixel779</th>\n",
       "      <th>pixel780</th>\n",
       "      <th>pixel781</th>\n",
       "      <th>pixel782</th>\n",
       "      <th>pixel783</th>\n",
       "      <th>kfold</th>\n",
       "    </tr>\n",
       "  </thead>\n",
       "  <tbody>\n",
       "    <tr>\n",
       "      <th>0</th>\n",
       "      <td>1</td>\n",
       "      <td>0</td>\n",
       "      <td>0</td>\n",
       "      <td>0</td>\n",
       "      <td>0</td>\n",
       "      <td>0</td>\n",
       "      <td>0</td>\n",
       "      <td>0</td>\n",
       "      <td>0</td>\n",
       "      <td>0</td>\n",
       "      <td>...</td>\n",
       "      <td>0</td>\n",
       "      <td>0</td>\n",
       "      <td>0</td>\n",
       "      <td>0</td>\n",
       "      <td>0</td>\n",
       "      <td>0</td>\n",
       "      <td>0</td>\n",
       "      <td>0</td>\n",
       "      <td>0</td>\n",
       "      <td>2</td>\n",
       "    </tr>\n",
       "    <tr>\n",
       "      <th>1</th>\n",
       "      <td>0</td>\n",
       "      <td>0</td>\n",
       "      <td>0</td>\n",
       "      <td>0</td>\n",
       "      <td>0</td>\n",
       "      <td>0</td>\n",
       "      <td>0</td>\n",
       "      <td>0</td>\n",
       "      <td>0</td>\n",
       "      <td>0</td>\n",
       "      <td>...</td>\n",
       "      <td>0</td>\n",
       "      <td>0</td>\n",
       "      <td>0</td>\n",
       "      <td>0</td>\n",
       "      <td>0</td>\n",
       "      <td>0</td>\n",
       "      <td>0</td>\n",
       "      <td>0</td>\n",
       "      <td>0</td>\n",
       "      <td>1</td>\n",
       "    </tr>\n",
       "    <tr>\n",
       "      <th>2</th>\n",
       "      <td>1</td>\n",
       "      <td>0</td>\n",
       "      <td>0</td>\n",
       "      <td>0</td>\n",
       "      <td>0</td>\n",
       "      <td>0</td>\n",
       "      <td>0</td>\n",
       "      <td>0</td>\n",
       "      <td>0</td>\n",
       "      <td>0</td>\n",
       "      <td>...</td>\n",
       "      <td>0</td>\n",
       "      <td>0</td>\n",
       "      <td>0</td>\n",
       "      <td>0</td>\n",
       "      <td>0</td>\n",
       "      <td>0</td>\n",
       "      <td>0</td>\n",
       "      <td>0</td>\n",
       "      <td>0</td>\n",
       "      <td>2</td>\n",
       "    </tr>\n",
       "    <tr>\n",
       "      <th>3</th>\n",
       "      <td>4</td>\n",
       "      <td>0</td>\n",
       "      <td>0</td>\n",
       "      <td>0</td>\n",
       "      <td>0</td>\n",
       "      <td>0</td>\n",
       "      <td>0</td>\n",
       "      <td>0</td>\n",
       "      <td>0</td>\n",
       "      <td>0</td>\n",
       "      <td>...</td>\n",
       "      <td>0</td>\n",
       "      <td>0</td>\n",
       "      <td>0</td>\n",
       "      <td>0</td>\n",
       "      <td>0</td>\n",
       "      <td>0</td>\n",
       "      <td>0</td>\n",
       "      <td>0</td>\n",
       "      <td>0</td>\n",
       "      <td>4</td>\n",
       "    </tr>\n",
       "    <tr>\n",
       "      <th>4</th>\n",
       "      <td>0</td>\n",
       "      <td>0</td>\n",
       "      <td>0</td>\n",
       "      <td>0</td>\n",
       "      <td>0</td>\n",
       "      <td>0</td>\n",
       "      <td>0</td>\n",
       "      <td>0</td>\n",
       "      <td>0</td>\n",
       "      <td>0</td>\n",
       "      <td>...</td>\n",
       "      <td>0</td>\n",
       "      <td>0</td>\n",
       "      <td>0</td>\n",
       "      <td>0</td>\n",
       "      <td>0</td>\n",
       "      <td>0</td>\n",
       "      <td>0</td>\n",
       "      <td>0</td>\n",
       "      <td>0</td>\n",
       "      <td>2</td>\n",
       "    </tr>\n",
       "    <tr>\n",
       "      <th>...</th>\n",
       "      <td>...</td>\n",
       "      <td>...</td>\n",
       "      <td>...</td>\n",
       "      <td>...</td>\n",
       "      <td>...</td>\n",
       "      <td>...</td>\n",
       "      <td>...</td>\n",
       "      <td>...</td>\n",
       "      <td>...</td>\n",
       "      <td>...</td>\n",
       "      <td>...</td>\n",
       "      <td>...</td>\n",
       "      <td>...</td>\n",
       "      <td>...</td>\n",
       "      <td>...</td>\n",
       "      <td>...</td>\n",
       "      <td>...</td>\n",
       "      <td>...</td>\n",
       "      <td>...</td>\n",
       "      <td>...</td>\n",
       "      <td>...</td>\n",
       "    </tr>\n",
       "    <tr>\n",
       "      <th>41995</th>\n",
       "      <td>0</td>\n",
       "      <td>0</td>\n",
       "      <td>0</td>\n",
       "      <td>0</td>\n",
       "      <td>0</td>\n",
       "      <td>0</td>\n",
       "      <td>0</td>\n",
       "      <td>0</td>\n",
       "      <td>0</td>\n",
       "      <td>0</td>\n",
       "      <td>...</td>\n",
       "      <td>0</td>\n",
       "      <td>0</td>\n",
       "      <td>0</td>\n",
       "      <td>0</td>\n",
       "      <td>0</td>\n",
       "      <td>0</td>\n",
       "      <td>0</td>\n",
       "      <td>0</td>\n",
       "      <td>0</td>\n",
       "      <td>4</td>\n",
       "    </tr>\n",
       "    <tr>\n",
       "      <th>41996</th>\n",
       "      <td>1</td>\n",
       "      <td>0</td>\n",
       "      <td>0</td>\n",
       "      <td>0</td>\n",
       "      <td>0</td>\n",
       "      <td>0</td>\n",
       "      <td>0</td>\n",
       "      <td>0</td>\n",
       "      <td>0</td>\n",
       "      <td>0</td>\n",
       "      <td>...</td>\n",
       "      <td>0</td>\n",
       "      <td>0</td>\n",
       "      <td>0</td>\n",
       "      <td>0</td>\n",
       "      <td>0</td>\n",
       "      <td>0</td>\n",
       "      <td>0</td>\n",
       "      <td>0</td>\n",
       "      <td>0</td>\n",
       "      <td>4</td>\n",
       "    </tr>\n",
       "    <tr>\n",
       "      <th>41997</th>\n",
       "      <td>7</td>\n",
       "      <td>0</td>\n",
       "      <td>0</td>\n",
       "      <td>0</td>\n",
       "      <td>0</td>\n",
       "      <td>0</td>\n",
       "      <td>0</td>\n",
       "      <td>0</td>\n",
       "      <td>0</td>\n",
       "      <td>0</td>\n",
       "      <td>...</td>\n",
       "      <td>0</td>\n",
       "      <td>0</td>\n",
       "      <td>0</td>\n",
       "      <td>0</td>\n",
       "      <td>0</td>\n",
       "      <td>0</td>\n",
       "      <td>0</td>\n",
       "      <td>0</td>\n",
       "      <td>0</td>\n",
       "      <td>1</td>\n",
       "    </tr>\n",
       "    <tr>\n",
       "      <th>41998</th>\n",
       "      <td>6</td>\n",
       "      <td>0</td>\n",
       "      <td>0</td>\n",
       "      <td>0</td>\n",
       "      <td>0</td>\n",
       "      <td>0</td>\n",
       "      <td>0</td>\n",
       "      <td>0</td>\n",
       "      <td>0</td>\n",
       "      <td>0</td>\n",
       "      <td>...</td>\n",
       "      <td>0</td>\n",
       "      <td>0</td>\n",
       "      <td>0</td>\n",
       "      <td>0</td>\n",
       "      <td>0</td>\n",
       "      <td>0</td>\n",
       "      <td>0</td>\n",
       "      <td>0</td>\n",
       "      <td>0</td>\n",
       "      <td>4</td>\n",
       "    </tr>\n",
       "    <tr>\n",
       "      <th>41999</th>\n",
       "      <td>9</td>\n",
       "      <td>0</td>\n",
       "      <td>0</td>\n",
       "      <td>0</td>\n",
       "      <td>0</td>\n",
       "      <td>0</td>\n",
       "      <td>0</td>\n",
       "      <td>0</td>\n",
       "      <td>0</td>\n",
       "      <td>0</td>\n",
       "      <td>...</td>\n",
       "      <td>0</td>\n",
       "      <td>0</td>\n",
       "      <td>0</td>\n",
       "      <td>0</td>\n",
       "      <td>0</td>\n",
       "      <td>0</td>\n",
       "      <td>0</td>\n",
       "      <td>0</td>\n",
       "      <td>0</td>\n",
       "      <td>1</td>\n",
       "    </tr>\n",
       "  </tbody>\n",
       "</table>\n",
       "<p>42000 rows × 786 columns</p>\n",
       "</div>"
      ],
      "text/plain": [
       "       label  pixel0  pixel1  pixel2  pixel3  pixel4  pixel5  pixel6  pixel7  \\\n",
       "0          1       0       0       0       0       0       0       0       0   \n",
       "1          0       0       0       0       0       0       0       0       0   \n",
       "2          1       0       0       0       0       0       0       0       0   \n",
       "3          4       0       0       0       0       0       0       0       0   \n",
       "4          0       0       0       0       0       0       0       0       0   \n",
       "...      ...     ...     ...     ...     ...     ...     ...     ...     ...   \n",
       "41995      0       0       0       0       0       0       0       0       0   \n",
       "41996      1       0       0       0       0       0       0       0       0   \n",
       "41997      7       0       0       0       0       0       0       0       0   \n",
       "41998      6       0       0       0       0       0       0       0       0   \n",
       "41999      9       0       0       0       0       0       0       0       0   \n",
       "\n",
       "       pixel8  ...  pixel775  pixel776  pixel777  pixel778  pixel779  \\\n",
       "0           0  ...         0         0         0         0         0   \n",
       "1           0  ...         0         0         0         0         0   \n",
       "2           0  ...         0         0         0         0         0   \n",
       "3           0  ...         0         0         0         0         0   \n",
       "4           0  ...         0         0         0         0         0   \n",
       "...       ...  ...       ...       ...       ...       ...       ...   \n",
       "41995       0  ...         0         0         0         0         0   \n",
       "41996       0  ...         0         0         0         0         0   \n",
       "41997       0  ...         0         0         0         0         0   \n",
       "41998       0  ...         0         0         0         0         0   \n",
       "41999       0  ...         0         0         0         0         0   \n",
       "\n",
       "       pixel780  pixel781  pixel782  pixel783  kfold  \n",
       "0             0         0         0         0      2  \n",
       "1             0         0         0         0      1  \n",
       "2             0         0         0         0      2  \n",
       "3             0         0         0         0      4  \n",
       "4             0         0         0         0      2  \n",
       "...         ...       ...       ...       ...    ...  \n",
       "41995         0         0         0         0      4  \n",
       "41996         0         0         0         0      4  \n",
       "41997         0         0         0         0      1  \n",
       "41998         0         0         0         0      4  \n",
       "41999         0         0         0         0      1  \n",
       "\n",
       "[42000 rows x 786 columns]"
      ]
     },
     "execution_count": 4,
     "metadata": {},
     "output_type": "execute_result"
    }
   ],
   "source": [
    "train = pd.read_csv(CONFIG.my_train_csv) # 读取训练的 .csv\n",
    "test = pd.read_csv(CONFIG.test_csv)\n",
    "train"
   ]
  },
  {
   "cell_type": "markdown",
   "id": "7a2b0ad1",
   "metadata": {
    "papermill": {
     "duration": 0.012875,
     "end_time": "2024-11-01T08:50:01.343166",
     "exception": false,
     "start_time": "2024-11-01T08:50:01.330291",
     "status": "completed"
    },
    "tags": []
   },
   "source": [
    "## Dataset and DataLoader"
   ]
  },
  {
   "cell_type": "code",
   "execution_count": 5,
   "id": "31dd678e",
   "metadata": {
    "execution": {
     "iopub.execute_input": "2024-11-01T08:50:01.371798Z",
     "iopub.status.busy": "2024-11-01T08:50:01.371412Z",
     "iopub.status.idle": "2024-11-01T08:50:01.376405Z",
     "shell.execute_reply": "2024-11-01T08:50:01.375503Z"
    },
    "papermill": {
     "duration": 0.022003,
     "end_time": "2024-11-01T08:50:01.378321",
     "exception": false,
     "start_time": "2024-11-01T08:50:01.356318",
     "status": "completed"
    },
    "tags": []
   },
   "outputs": [],
   "source": [
    "def transform(img):\n",
    "    composition = A.Compose([\n",
    "        A.Resize(CONFIG.new_size2train[0], CONFIG.new_size2train[0]),\n",
    "        A.Normalize(),\n",
    "        ToTensorV2(),\n",
    "    ])\n",
    "    return composition(image=img)[\"image\"]"
   ]
  },
  {
   "cell_type": "code",
   "execution_count": 6,
   "id": "f5b40730",
   "metadata": {
    "execution": {
     "iopub.execute_input": "2024-11-01T08:50:01.405642Z",
     "iopub.status.busy": "2024-11-01T08:50:01.405315Z",
     "iopub.status.idle": "2024-11-01T08:50:01.415964Z",
     "shell.execute_reply": "2024-11-01T08:50:01.415098Z"
    },
    "papermill": {
     "duration": 0.026384,
     "end_time": "2024-11-01T08:50:01.417895",
     "exception": false,
     "start_time": "2024-11-01T08:50:01.391511",
     "status": "completed"
    },
    "tags": []
   },
   "outputs": [],
   "source": [
    "class MyDataset_train(Dataset):\n",
    "    def __init__(self, df, transform=None):\n",
    "        super().__init__()\n",
    "        self.df = df\n",
    "        self.transform = transform\n",
    "        \n",
    "    def __len__(self):\n",
    "        return len(self.df)\n",
    "    \n",
    "    def __getitem__(self, idx):\n",
    "        row = self.df.iloc[idx, :] # 从 df 中取出 idx 这一行\n",
    "        label = row.label\n",
    "        \n",
    "        img = row[\"pixel0\": \"pixel783\"].values\n",
    "        img = img.reshape(CONFIG.img_size[0], CONFIG.img_size[1], -1)\n",
    "        img = np.concatenate([img] * 3, axis=-1).astype(np.uint8) # Albumentations 中的部分数据增强操作需要图像为 uint8 数据类型才能执行 \n",
    "        \n",
    "        if self.transform != None: # 可进行 totensor 数据增强 等操作\n",
    "            img = self.transform(img) # ToTensor操作可自动将最后一维的 channel 提前，即 (H, W, C) --> (C, H, W)\n",
    "        \n",
    "        return img, label # Dataset 一般一次返回一条 X(特征), y(标签) 这样的形式\n",
    "    \n",
    "class MyDataset_test(Dataset):\n",
    "    def __init__(self, df, transform=None):\n",
    "        super().__init__()\n",
    "        self.df = df\n",
    "        self.transform = transform\n",
    "        \n",
    "    def __len__(self):\n",
    "        return len(self.df)\n",
    "    \n",
    "    def __getitem__(self, idx):\n",
    "        row = self.df.iloc[idx, :] # 从 df 中取出 idx 这一行\n",
    "        img = row[\"pixel0\":].values\n",
    "        img = img.reshape(CONFIG.img_size[0], CONFIG.img_size[1], -1).astype(np.uint8)\n",
    "        img = np.concatenate([img] * 3, axis=-1)\n",
    "        \n",
    "        if self.transform != None: # 可进行 totensor 数据增强 等操作\n",
    "            img = self.transform(img)\n",
    "        \n",
    "        return img, str(idx) # 测试集的数据没有 label，我们用它对应的索引代替"
   ]
  },
  {
   "cell_type": "code",
   "execution_count": 7,
   "id": "f5631b59",
   "metadata": {
    "execution": {
     "iopub.execute_input": "2024-11-01T08:50:01.445151Z",
     "iopub.status.busy": "2024-11-01T08:50:01.444840Z",
     "iopub.status.idle": "2024-11-01T08:50:01.452015Z",
     "shell.execute_reply": "2024-11-01T08:50:01.451082Z"
    },
    "papermill": {
     "duration": 0.022972,
     "end_time": "2024-11-01T08:50:01.453842",
     "exception": false,
     "start_time": "2024-11-01T08:50:01.430870",
     "status": "completed"
    },
    "tags": []
   },
   "outputs": [],
   "source": [
    "def prepare_loaders_train(df, fold=0):\n",
    "    df_train = df[df[\"kfold\"] != fold]\n",
    "    df_valid = df[df[\"kfold\"] == fold]\n",
    "    \n",
    "    train_datasets = MyDataset_train(df=df_train, transform=transform)\n",
    "    valid_datasets = MyDataset_train(df=df_valid, transform=transform)\n",
    "    \n",
    "    train_loader = DataLoader(train_datasets, batch_size=CONFIG.train_batch_size, num_workers=CONFIG.n_workers, shuffle=True, pin_memory=True)\n",
    "    valid_loader = DataLoader(valid_datasets, batch_size=CONFIG.valid_batch_size, num_workers=CONFIG.n_workers, shuffle=False, pin_memory=True)\n",
    "    # valid_loader 一般不行打乱操作 所以 shuffle 为 False\n",
    "    \n",
    "    return train_loader, valid_loader\n",
    "\n",
    "def prepare_loaders_test():\n",
    "    test_datasets = MyDataset_test(df=test, transform=transform)\n",
    "    \n",
    "    test_loader = DataLoader(test_datasets, batch_size=CONFIG.test_batch_size, num_workers=CONFIG.n_workers, shuffle=False, pin_memory=True)\n",
    "    # 推理过程对数据按顺序执行，不进行打乱操作，shuffle为 False\n",
    "    \n",
    "    return test_loader"
   ]
  },
  {
   "cell_type": "markdown",
   "id": "fe15bfc3",
   "metadata": {
    "papermill": {
     "duration": 0.012609,
     "end_time": "2024-11-01T08:50:01.479469",
     "exception": false,
     "start_time": "2024-11-01T08:50:01.466860",
     "status": "completed"
    },
    "tags": []
   },
   "source": [
    "## Evaluation"
   ]
  },
  {
   "cell_type": "code",
   "execution_count": 8,
   "id": "3e3b9fe9",
   "metadata": {
    "execution": {
     "iopub.execute_input": "2024-11-01T08:50:01.506686Z",
     "iopub.status.busy": "2024-11-01T08:50:01.506379Z",
     "iopub.status.idle": "2024-11-01T08:50:01.510988Z",
     "shell.execute_reply": "2024-11-01T08:50:01.510200Z"
    },
    "papermill": {
     "duration": 0.020422,
     "end_time": "2024-11-01T08:50:01.512885",
     "exception": false,
     "start_time": "2024-11-01T08:50:01.492463",
     "status": "completed"
    },
    "tags": []
   },
   "outputs": [],
   "source": [
    "def cal_ACC(y_true, y_preds):\n",
    "    if len(y_true) != len(y_preds):\n",
    "        raise(\"len(y_true) != len(y_preds)\")\n",
    "    length = len(y_true)\n",
    "    acc = (y_true == y_preds).sum() / length\n",
    "    \n",
    "    return acc"
   ]
  },
  {
   "cell_type": "markdown",
   "id": "cf5afcd1",
   "metadata": {
    "papermill": {
     "duration": 0.012806,
     "end_time": "2024-11-01T08:50:01.538712",
     "exception": false,
     "start_time": "2024-11-01T08:50:01.525906",
     "status": "completed"
    },
    "tags": []
   },
   "source": [
    "## Model"
   ]
  },
  {
   "cell_type": "code",
   "execution_count": 9,
   "id": "ba3697cd",
   "metadata": {
    "execution": {
     "iopub.execute_input": "2024-11-01T08:50:01.565794Z",
     "iopub.status.busy": "2024-11-01T08:50:01.565488Z",
     "iopub.status.idle": "2024-11-01T08:50:01.571976Z",
     "shell.execute_reply": "2024-11-01T08:50:01.571199Z"
    },
    "papermill": {
     "duration": 0.022144,
     "end_time": "2024-11-01T08:50:01.573843",
     "exception": false,
     "start_time": "2024-11-01T08:50:01.551699",
     "status": "completed"
    },
    "tags": []
   },
   "outputs": [],
   "source": [
    "class GeMPool(nn.Module):\n",
    "    def __init__(self, p=3, eps=1e-6):\n",
    "        super(GeMPool, self).__init__()\n",
    "        self.p = nn.Parameter(torch.ones(1) * p)\n",
    "        self.eps = eps\n",
    "\n",
    "    def forward(self, x):\n",
    "        return self.gem(x, p=self.p, eps=self.eps)\n",
    "    \n",
    "    def gem(self, x, p=3, eps=1e-6):\n",
    "        return torch.mean(x.clamp(min=eps).pow(p), dim=(-2, -1)).pow(1./p)\n",
    "    \n",
    "    def __repr__(self):\n",
    "        return self.__class__.__name__ + f'(p={self.p.data.tolist()[0]:.4f}, eps={self.eps})'"
   ]
  },
  {
   "cell_type": "code",
   "execution_count": 10,
   "id": "1b963a99",
   "metadata": {
    "execution": {
     "iopub.execute_input": "2024-11-01T08:50:01.600936Z",
     "iopub.status.busy": "2024-11-01T08:50:01.600663Z",
     "iopub.status.idle": "2024-11-01T08:50:01.609718Z",
     "shell.execute_reply": "2024-11-01T08:50:01.609000Z"
    },
    "papermill": {
     "duration": 0.024459,
     "end_time": "2024-11-01T08:50:01.611505",
     "exception": false,
     "start_time": "2024-11-01T08:50:01.587046",
     "status": "completed"
    },
    "tags": []
   },
   "outputs": [],
   "source": [
    "class DigitRecognizerModel(nn.Module):\n",
    "    def __init__(self, model_name=CONFIG.model_names[0]):\n",
    "        super(DigitRecognizerModel, self).__init__()\n",
    "        # 使用 timm.create_model() 创建模型，将模型名称传入 model_name 即可完成创建，pretrained 参数默认为 False，这里我们改为True使用预训练权重\n",
    "        self.backbone = timm.create_model(model_name=model_name, pretrained=CONFIG.timm_pretrained)\n",
    "            \n",
    "        #############################################################################################################################\n",
    "        # 最后的 head 层\n",
    "        if \"efficientnet\" in model_name:\n",
    "            if CONFIG.pool_name == \"GeMPool\":\n",
    "                self.backbone.global_pool = GeMPool() # 修改 最后的全局池化层为 GeMPooling\n",
    "            in_features = self.backbone.classifier.in_features # 将预训练模型的最后一层的输出参数取出\n",
    "            self.backbone.classifier = nn.Identity() # nn.Identity() 输入什么就输出什么，这里相当于将模型中的 classifier 层去掉\n",
    "            \n",
    "        elif \"vit\" in model_name:\n",
    "            in_features = self.backbone.head.fc.in_features\n",
    "            self.backbone.head.fc = nn.Identity()\n",
    "            \n",
    "        elif \"convnext\" in model_name:\n",
    "            in_features = self.backbone.head.fc.in_features\n",
    "            self.backbone.head.fc = nn.Identity()\n",
    "        #############################################################################################################################\n",
    "        \n",
    "        self.head = nn.Sequential( # 用自定义的 head 层代替原模型中的 classifier 分类层\n",
    "            nn.Linear(in_features, CONFIG.n_classes)\n",
    "        )\n",
    "        \n",
    "        \n",
    "    def forward(self, x):\n",
    "        output = self.backbone(x) # 经过预训练的 模型主干backbone 后得到高级语义信息\n",
    "        output = self.head(output) # 将高级语义信息传入给分类头进行最后的分类输出\n",
    "        return output"
   ]
  },
  {
   "cell_type": "code",
   "execution_count": 11,
   "id": "b941df5d",
   "metadata": {
    "execution": {
     "iopub.execute_input": "2024-11-01T08:50:01.639668Z",
     "iopub.status.busy": "2024-11-01T08:50:01.639347Z",
     "iopub.status.idle": "2024-11-01T08:50:01.645868Z",
     "shell.execute_reply": "2024-11-01T08:50:01.645005Z"
    },
    "papermill": {
     "duration": 0.022875,
     "end_time": "2024-11-01T08:50:01.647833",
     "exception": false,
     "start_time": "2024-11-01T08:50:01.624958",
     "status": "completed"
    },
    "tags": []
   },
   "outputs": [],
   "source": [
    "class ensemblemodel(nn.Module):\n",
    "    def __init__(self, n_models) -> None:\n",
    "        super(ensemblemodel, self).__init__()\n",
    "\n",
    "        self.weights = nn.Parameter(torch.randn(n_models))\n",
    "\n",
    "        self.softmax = nn.Softmax(dim=-1)\n",
    "\n",
    "    def forward(self, x):\n",
    "        x = x.permute(0, 2, 1) # (batch, n_model, pred_prob) ---> (batch, pred_prob, n_model)\n",
    "        Identity = x\n",
    "        weights = self.softmax(self.weights) # 计算每个模型的权重\n",
    "        _tmp = Identity * weights # 用每个模型的预测结果 × 其对应的权重\n",
    "        output = _tmp.sum(dim=2, keepdim=True).flatten(1) # 加权求和再降维 (batch, pred_prob, 1) ---> (batch, pred_prob)\n",
    "        return output"
   ]
  },
  {
   "cell_type": "code",
   "execution_count": 12,
   "id": "a3c08337",
   "metadata": {
    "execution": {
     "iopub.execute_input": "2024-11-01T08:50:01.675651Z",
     "iopub.status.busy": "2024-11-01T08:50:01.674850Z",
     "iopub.status.idle": "2024-11-01T08:50:01.889227Z",
     "shell.execute_reply": "2024-11-01T08:50:01.888273Z"
    },
    "papermill": {
     "duration": 0.230558,
     "end_time": "2024-11-01T08:50:01.891454",
     "exception": false,
     "start_time": "2024-11-01T08:50:01.660896",
     "status": "completed"
    },
    "scrolled": true,
    "tags": []
   },
   "outputs": [
    {
     "data": {
      "text/plain": [
       "ensemblemodel(\n",
       "  (softmax): Softmax(dim=-1)\n",
       ")"
      ]
     },
     "execution_count": 12,
     "metadata": {},
     "output_type": "execute_result"
    }
   ],
   "source": [
    "model = ensemblemodel(n_models=len(CONFIG.model_names)) # 实例化模型\n",
    "model.to(CONFIG.device)"
   ]
  },
  {
   "cell_type": "markdown",
   "id": "65f722e3",
   "metadata": {
    "papermill": {
     "duration": 0.013044,
     "end_time": "2024-11-01T08:50:01.918840",
     "exception": false,
     "start_time": "2024-11-01T08:50:01.905796",
     "status": "completed"
    },
    "tags": []
   },
   "source": [
    "## Load Models to Ensemble"
   ]
  },
  {
   "cell_type": "code",
   "execution_count": 13,
   "id": "86b00c5e",
   "metadata": {
    "execution": {
     "iopub.execute_input": "2024-11-01T08:50:01.946491Z",
     "iopub.status.busy": "2024-11-01T08:50:01.946128Z",
     "iopub.status.idle": "2024-11-01T08:50:06.808263Z",
     "shell.execute_reply": "2024-11-01T08:50:06.807154Z"
    },
    "papermill": {
     "duration": 4.87846,
     "end_time": "2024-11-01T08:50:06.810344",
     "exception": false,
     "start_time": "2024-11-01T08:50:01.931884",
     "status": "completed"
    },
    "tags": []
   },
   "outputs": [
    {
     "name": "stdout",
     "output_type": "stream",
     "text": [
      "fold : 0 --------- path : Fold_0_CV_0.9954_Loss0.1183_epoch10.bin\n",
      "fold : 1 --------- path : Fold_1_CV_0.9944_Loss0.1183_epoch9.bin\n",
      "fold : 2 --------- path : Fold_2_CV_0.9939_Loss0.1251_epoch10.bin\n",
      "fold : 3 --------- path : Fold_3_CV_0.9930_Loss0.1292_epoch8.bin\n",
      "fold : 4 --------- path : Fold_4_CV_0.9939_Loss0.1206_epoch8.bin\n",
      "######################################### model_tf_efficientnet_b0.ns_jft_in1k_5_fold load success! #########################################\n",
      "fold : 0 --------- path : Fold_0_CV_0.9950_Loss0.1101_epoch10.bin\n",
      "fold : 1 --------- path : Fold_1_CV_0.9943_Loss0.1117_epoch9.bin\n",
      "fold : 2 --------- path : Fold_2_CV_0.9952_Loss0.1109_epoch7.bin\n",
      "fold : 3 --------- path : Fold_3_CV_0.9939_Loss0.1139_epoch10.bin\n",
      "fold : 4 --------- path : Fold_4_CV_0.9948_Loss0.1101_epoch9.bin\n",
      "######################################### model_convnext_atto.d2_in1k_5_fold load success! #########################################\n"
     ]
    }
   ],
   "source": [
    "n_models = len(CONFIG.model_names)\n",
    "\n",
    "total_models = []\n",
    "\n",
    "for n_model in range(n_models):\n",
    "    models = []\n",
    "    \n",
    "    model_name = CONFIG.model_names[n_model]\n",
    "    ckpt_path = CONFIG.ckpt_paths[n_model]\n",
    "    \n",
    "    paths = sorted(os.listdir(ckpt_path))\n",
    "\n",
    "    if CONFIG.is_DataParallel:\n",
    "        device_ids = [0, 1]\n",
    "        for i in range(CONFIG.n_folds):\n",
    "            model = DigitRecognizerModel(model_name)\n",
    "            model = torch.nn.DataParallel(model, device_ids=device_ids)\n",
    "            model = model.cuda()\n",
    "            model.load_state_dict(torch.load(os.path.join(ckpt_path, paths[i])))\n",
    "            print(f\"fold : {i} --------- path : {paths[i]}\")\n",
    "            model.eval()\n",
    "            models.append(model)\n",
    "    else:\n",
    "        for i in range(CONFIG.n_folds):\n",
    "            model = DigitRecognizerModel(model_name)\n",
    "            model = model.cuda()\n",
    "            model.load_state_dict(torch.load(os.path.join(ckpt_path, paths[i])))\n",
    "            print(f\"fold : {i} --------- path : {paths[i]}\")\n",
    "            model.eval()\n",
    "            models.append(model)\n",
    "    total_models.append(models)\n",
    "    print(f\"######################################### model_{model_name}_{CONFIG.n_folds}_fold load success! #########################################\")"
   ]
  },
  {
   "cell_type": "markdown",
   "id": "ec3f79fe",
   "metadata": {
    "papermill": {
     "duration": 0.014342,
     "end_time": "2024-11-01T08:50:06.839540",
     "exception": false,
     "start_time": "2024-11-01T08:50:06.825198",
     "status": "completed"
    },
    "tags": []
   },
   "source": [
    "## Train and Valid Function"
   ]
  },
  {
   "cell_type": "code",
   "execution_count": 14,
   "id": "af6451e6",
   "metadata": {
    "execution": {
     "iopub.execute_input": "2024-11-01T08:50:06.869092Z",
     "iopub.status.busy": "2024-11-01T08:50:06.868802Z",
     "iopub.status.idle": "2024-11-01T08:50:06.872990Z",
     "shell.execute_reply": "2024-11-01T08:50:06.872181Z"
    },
    "papermill": {
     "duration": 0.020938,
     "end_time": "2024-11-01T08:50:06.874806",
     "exception": false,
     "start_time": "2024-11-01T08:50:06.853868",
     "status": "completed"
    },
    "tags": []
   },
   "outputs": [],
   "source": [
    "criterion = nn.CrossEntropyLoss() # 实例化损失函数 多分类可选 交叉熵损失"
   ]
  },
  {
   "cell_type": "code",
   "execution_count": 15,
   "id": "4b8575db",
   "metadata": {
    "execution": {
     "iopub.execute_input": "2024-11-01T08:50:06.903788Z",
     "iopub.status.busy": "2024-11-01T08:50:06.903514Z",
     "iopub.status.idle": "2024-11-01T08:50:06.914960Z",
     "shell.execute_reply": "2024-11-01T08:50:06.914121Z"
    },
    "papermill": {
     "duration": 0.02813,
     "end_time": "2024-11-01T08:50:06.916878",
     "exception": false,
     "start_time": "2024-11-01T08:50:06.888748",
     "status": "completed"
    },
    "tags": []
   },
   "outputs": [],
   "source": [
    "def train_one_epoch(model, dl_models, optimizer, scheduler, train_loader, epoch):\n",
    "    model.train()\n",
    "    \n",
    "    y_preds = []\n",
    "    y_trues = []\n",
    "    \n",
    "    dataset_size = 0\n",
    "    running_loss = 0.0\n",
    "    bar = tqdm(enumerate(train_loader), total=len(train_loader)) # 进度条\n",
    "    for step, (images, labels) in bar:\n",
    "        optimizer.zero_grad()\n",
    "        \n",
    "        batch_size = images.size(0)        \n",
    "        if CONFIG.is_DataParallel: # 使用多卡并行训练\n",
    "            images = images.cuda().float()\n",
    "            labels = labels.cuda().long() # 使用标签平滑操作，此处标签为独热编码，所以用 float32数据类型\n",
    "        else: # 使用单卡训练\n",
    "            images = images.to(CONFIG.device, dtype=torch.float)\n",
    "            labels = labels.to(CONFIG.device, dtype=torch.long) # 使用标签平滑操作，此处标签为独热编码，所以用 float32数据类型\n",
    "            \n",
    "        # 构建 ensemble 模型的输入\n",
    "        with torch.no_grad():\n",
    "            ensemble_input = []\n",
    "            for dl_model in dl_models:\n",
    "                dl_pred = dl_model(images) # (batch, 10)\n",
    "                ensemble_input.append(dl_pred.unsqueeze(1)) # (batch, 10) ---> (batch, 1, 10)\n",
    "            ensemble_input = torch.cat(ensemble_input, axis=1)\n",
    "        \n",
    "        outputs = model(ensemble_input)\n",
    "        loss = criterion(outputs, labels)\n",
    "        loss.backward()\n",
    "        \n",
    "        optimizer.step()\n",
    "        if scheduler is not None:\n",
    "            scheduler.step()\n",
    "\n",
    "        y_preds.append(F.softmax(outputs).argmax(1).detach().cpu().numpy())\n",
    "        y_trues.append(labels.detach().cpu().numpy())\n",
    "        _y_preds = np.concatenate(y_preds)\n",
    "        _y_trues = np.concatenate(y_trues)\n",
    "\n",
    "        train_cv = cal_ACC(_y_trues, _y_preds)\n",
    "\n",
    "        running_loss += (loss.item() * batch_size)\n",
    "\n",
    "        dataset_size += batch_size\n",
    "        \n",
    "        epoch_loss = running_loss / dataset_size\n",
    "        \n",
    "        # 设置让进度条显示的数据\n",
    "        bar.set_postfix(Epoch=epoch,\n",
    "                        Train_Loss=epoch_loss,\n",
    "                        Train_ACC=train_cv,\n",
    "                        LR=optimizer.param_groups[0]['lr'])\n",
    " \n",
    "    return epoch_loss, train_cv"
   ]
  },
  {
   "cell_type": "code",
   "execution_count": 16,
   "id": "77726d6e",
   "metadata": {
    "execution": {
     "iopub.execute_input": "2024-11-01T08:50:06.946061Z",
     "iopub.status.busy": "2024-11-01T08:50:06.945767Z",
     "iopub.status.idle": "2024-11-01T08:50:06.956661Z",
     "shell.execute_reply": "2024-11-01T08:50:06.955740Z"
    },
    "papermill": {
     "duration": 0.027737,
     "end_time": "2024-11-01T08:50:06.958627",
     "exception": false,
     "start_time": "2024-11-01T08:50:06.930890",
     "status": "completed"
    },
    "tags": []
   },
   "outputs": [],
   "source": [
    "@torch.inference_mode()\n",
    "def valid_one_epoch(model, dl_models, valid_loader, epoch):\n",
    "    model.eval()\n",
    "    \n",
    "    y_preds = []\n",
    "    y_trues = []\n",
    "    dataset_size = 0\n",
    "    running_loss = 0.0\n",
    "    bar = tqdm(enumerate(valid_loader), total=len(valid_loader))\n",
    "    with torch.no_grad():\n",
    "        for step, (images, labels) in bar:\n",
    "            batch_size = images.size(0)\n",
    "            \n",
    "            if CONFIG.is_DataParallel:\n",
    "                images = images.cuda().float()\n",
    "                labels = labels.cuda().long()\n",
    "            else:\n",
    "                images = images.to(CONFIG.device, dtype=torch.float)\n",
    "                labels = labels.to(CONFIG.device, dtype=torch.long)\n",
    "                \n",
    "            # 构建 ensemble 模型的输入\n",
    "            ensemble_input = []\n",
    "            for dl_model in dl_models:\n",
    "                dl_pred = dl_model(images) # (batch, 10)\n",
    "                ensemble_input.append(dl_pred.unsqueeze(1)) # (batch, 10) ---> (batch, 1, 10)\n",
    "            ensemble_input = torch.cat(ensemble_input, axis=1)\n",
    "\n",
    "            outputs = model(ensemble_input)\n",
    "            loss = criterion(outputs, labels)\n",
    "\n",
    "            y_preds.append(F.softmax(outputs).argmax(1).detach().cpu().numpy())\n",
    "            y_trues.append(labels.detach().cpu().numpy())\n",
    "            _y_preds = np.concatenate(y_preds)\n",
    "            _y_trues = np.concatenate(y_trues)\n",
    "            \n",
    "            valid_cv = cal_ACC(_y_trues, _y_preds)\n",
    "        \n",
    "            running_loss += (loss.item() * batch_size)\n",
    "\n",
    "            dataset_size += batch_size\n",
    "\n",
    "            epoch_loss = running_loss / dataset_size\n",
    "\n",
    "            bar.set_postfix(Epoch=epoch,\n",
    "                            Valid_Loss=epoch_loss,\n",
    "                            Valid_ACC=valid_cv,\n",
    "                            LR=optimizer.param_groups[0]['lr'])\n",
    "\n",
    "    return epoch_loss, valid_cv"
   ]
  },
  {
   "cell_type": "code",
   "execution_count": 17,
   "id": "d85486d7",
   "metadata": {
    "execution": {
     "iopub.execute_input": "2024-11-01T08:50:06.988567Z",
     "iopub.status.busy": "2024-11-01T08:50:06.988268Z",
     "iopub.status.idle": "2024-11-01T08:50:07.000902Z",
     "shell.execute_reply": "2024-11-01T08:50:06.999965Z"
    },
    "papermill": {
     "duration": 0.029694,
     "end_time": "2024-11-01T08:50:07.002844",
     "exception": false,
     "start_time": "2024-11-01T08:50:06.973150",
     "status": "completed"
    },
    "tags": []
   },
   "outputs": [],
   "source": [
    "def run_training(fold, model, dl_models, optimizer, scheduler, train_loader, valid_loader, num_epochs=CONFIG.epochs, now_cv=CONFIG.now_cv):\n",
    "    if torch.cuda.is_available():\n",
    "        print(\"[INFO] Using GPU: {} x {}\\n\".format(torch.cuda.get_device_name(), torch.cuda.device_count()))\n",
    "    \n",
    "    start = time.time()\n",
    "    best_model_wts = copy.deepcopy(model.state_dict()) # 用于 存储最好的 cv 的模型权重\n",
    "    best_epoch_cv = now_cv\n",
    "    best_model_path = None # # 用于 存储最好的 cv 的模型权重的路径\n",
    "    history = defaultdict(list)\n",
    "    \n",
    "    for epoch in range(1, num_epochs + 1):\n",
    "        gc.collect() # 立即回收，清除缓存中的垃圾\n",
    "        train_epoch_loss, train_epoch_cv = train_one_epoch(model, dl_models, optimizer, scheduler, train_loader, epoch)\n",
    "        valid_epoch_loss, valid_epoch_cv = valid_one_epoch(model, dl_models, valid_loader, epoch)\n",
    "        print(f\"epoch: {epoch}, LOSS = {valid_epoch_loss}, CV(Acc) = {valid_epoch_cv}\")\n",
    "        \n",
    "        history['Train Loss'].append(train_epoch_loss)\n",
    "        history['Valid Loss'].append(valid_epoch_loss)\n",
    "        history['Train CV(Acc)'].append(train_epoch_cv)\n",
    "        history['Valid CV(Acc)'].append(valid_epoch_cv)\n",
    "        history['lr'].append(optimizer.param_groups[0]['lr'])\n",
    "        \n",
    "        # deep copy the model\n",
    "        if valid_epoch_cv >= best_epoch_cv:\n",
    "            print(f\"{b_}epoch: {epoch}, Validation CV(Acc) Improved ({best_epoch_cv} ---> {valid_epoch_cv}))\")\n",
    "            best_epoch_cv = valid_epoch_cv\n",
    "            best_model_wts = copy.deepcopy(model.state_dict())\n",
    "            if os.path.exists(CONFIG.ckpt_save_path) is False: # 如果该路径不存在，创建相关路径\n",
    "                os.makedirs(CONFIG.ckpt_save_path)\n",
    "                \n",
    "            PATH = \"{}/Fold_{}_CV_{:.4f}_Loss{:.4f}_epoch{:.0f}.bin\".format(CONFIG.ckpt_save_path, fold, best_epoch_cv, valid_epoch_loss, epoch)\n",
    "            best_model_path = PATH\n",
    "            torch.save(model.state_dict(), PATH) # 只保存模型的权重参数到指定路径\n",
    "            print(f\"Model Saved{sr_}\")\n",
    "            \n",
    "        print()\n",
    "    \n",
    "    # 计算训练总消耗时间\n",
    "    end = time.time()\n",
    "    time_elapsed = end - start\n",
    "    print('Training complete in {:.0f}h {:.0f}m {:.0f}s'.format(\n",
    "        time_elapsed // 3600, (time_elapsed % 3600) // 60, (time_elapsed % 3600) % 60))\n",
    "    print(\"Best CV(Acc): {:.4f}\".format(best_epoch_cv))\n",
    "\n",
    "    # load best model weights\n",
    "    model.load_state_dict(best_model_wts)\n",
    "\n",
    "    return model, history, best_model_path"
   ]
  },
  {
   "cell_type": "markdown",
   "id": "b1f1a6c5",
   "metadata": {
    "papermill": {
     "duration": 0.014054,
     "end_time": "2024-11-01T08:50:07.031469",
     "exception": false,
     "start_time": "2024-11-01T08:50:07.017415",
     "status": "completed"
    },
    "tags": []
   },
   "source": [
    "## Optimizer"
   ]
  },
  {
   "cell_type": "code",
   "execution_count": 18,
   "id": "69ef75a7",
   "metadata": {
    "execution": {
     "iopub.execute_input": "2024-11-01T08:50:07.061055Z",
     "iopub.status.busy": "2024-11-01T08:50:07.060729Z",
     "iopub.status.idle": "2024-11-01T08:50:07.068521Z",
     "shell.execute_reply": "2024-11-01T08:50:07.067757Z"
    },
    "papermill": {
     "duration": 0.024465,
     "end_time": "2024-11-01T08:50:07.070561",
     "exception": false,
     "start_time": "2024-11-01T08:50:07.046096",
     "status": "completed"
    },
    "tags": []
   },
   "outputs": [],
   "source": [
    "class CosineAnnealingWithWarmupLR(_LRScheduler):\n",
    "    def __init__(self, optimizer, T_max, eta_min=0, warmup_epochs=10, last_epoch=-1):\n",
    "        self.T_max = T_max\n",
    "        self.eta_min = eta_min\n",
    "        self.warmup_epochs = warmup_epochs\n",
    "        self.cosine_epochs = T_max - warmup_epochs\n",
    "        super(CosineAnnealingWithWarmupLR, self).__init__(optimizer, last_epoch)\n",
    "\n",
    "    def get_lr(self):\n",
    "        if self.last_epoch < self.warmup_epochs:\n",
    "            # Linear warmup\n",
    "            return [(base_lr * (self.last_epoch + 1) / self.warmup_epochs) for base_lr in self.base_lrs]\n",
    "        else:\n",
    "            # Cosine annealing\n",
    "            cosine_epoch = self.last_epoch - self.warmup_epochs\n",
    "            return [self.eta_min + (base_lr - self.eta_min) * (1 + math.cos(math.pi * cosine_epoch / self.cosine_epochs)) / 2 for base_lr in self.base_lrs]"
   ]
  },
  {
   "cell_type": "code",
   "execution_count": 19,
   "id": "98e2a044",
   "metadata": {
    "execution": {
     "iopub.execute_input": "2024-11-01T08:50:07.099241Z",
     "iopub.status.busy": "2024-11-01T08:50:07.098954Z",
     "iopub.status.idle": "2024-11-01T08:50:07.104493Z",
     "shell.execute_reply": "2024-11-01T08:50:07.103641Z"
    },
    "papermill": {
     "duration": 0.02201,
     "end_time": "2024-11-01T08:50:07.106485",
     "exception": false,
     "start_time": "2024-11-01T08:50:07.084475",
     "status": "completed"
    },
    "tags": []
   },
   "outputs": [],
   "source": [
    "# lr scheduler\n",
    "def fetch_scheduler(optimizer, T_max, min_lr):\n",
    "    if CONFIG.scheduler == 'CosineAnnealingLR': # 学习率根据 cos 函数特性下降，可以观察最后 logs 画出来的图像中 学习率的变化\n",
    "        scheduler = lr_scheduler.CosineAnnealingLR(optimizer,T_max=T_max, \n",
    "                                                   eta_min=min_lr)\n",
    "    elif CONFIG.scheduler == 'CosineAnnealingWithWarmupLR':\n",
    "        scheduler = CosineAnnealingWithWarmupLR(optimizer, T_max=T_max, eta_min=min_lr, \n",
    "                                                warmup_epochs=T_max//CONFIG.epochs)\n",
    "    elif CONFIG.scheduler == None:\n",
    "        return None\n",
    "        \n",
    "    return scheduler"
   ]
  },
  {
   "cell_type": "code",
   "execution_count": 20,
   "id": "f6942264",
   "metadata": {
    "execution": {
     "iopub.execute_input": "2024-11-01T08:50:07.136540Z",
     "iopub.status.busy": "2024-11-01T08:50:07.136217Z",
     "iopub.status.idle": "2024-11-01T08:50:07.139988Z",
     "shell.execute_reply": "2024-11-01T08:50:07.139102Z"
    },
    "papermill": {
     "duration": 0.021044,
     "end_time": "2024-11-01T08:50:07.141991",
     "exception": false,
     "start_time": "2024-11-01T08:50:07.120947",
     "status": "completed"
    },
    "tags": []
   },
   "outputs": [],
   "source": [
    "# 指定优化器为 AdamW\n",
    "# optimizer = torch.optim.AdamW(model.parameters(), lr=CONFIG.learning_rate, \n",
    "#                              weight_decay=CONFIG.weight_decay)\n",
    "# scheduler = fetch_scheduler(optimizer, T_max=CONFIG.T_max, min_lr=CONFIG.min_lr)"
   ]
  },
  {
   "cell_type": "markdown",
   "id": "92aab32b",
   "metadata": {
    "papermill": {
     "duration": 0.013748,
     "end_time": "2024-11-01T08:50:07.170157",
     "exception": false,
     "start_time": "2024-11-01T08:50:07.156409",
     "status": "completed"
    },
    "tags": []
   },
   "source": [
    "## Start Training"
   ]
  },
  {
   "cell_type": "code",
   "execution_count": 21,
   "id": "15bd5a0d",
   "metadata": {
    "execution": {
     "iopub.execute_input": "2024-11-01T08:50:07.199423Z",
     "iopub.status.busy": "2024-11-01T08:50:07.199116Z",
     "iopub.status.idle": "2024-11-01T08:55:46.583833Z",
     "shell.execute_reply": "2024-11-01T08:55:46.582653Z"
    },
    "papermill": {
     "duration": 339.40203,
     "end_time": "2024-11-01T08:55:46.586122",
     "exception": false,
     "start_time": "2024-11-01T08:50:07.184092",
     "status": "completed"
    },
    "tags": []
   },
   "outputs": [
    {
     "name": "stdout",
     "output_type": "stream",
     "text": [
      "================================ Fold 0 start training ================================\n",
      "[INFO] Using GPU: Tesla T4 x 2\n",
      "\n"
     ]
    },
    {
     "name": "stderr",
     "output_type": "stream",
     "text": [
      "100%|██████████| 132/132 [00:26<00:00,  5.01it/s, Epoch=1, LR=0.001, Train_ACC=1, Train_Loss=0.103]\n",
      "100%|██████████| 17/17 [00:05<00:00,  3.27it/s, Epoch=1, LR=0.001, Valid_ACC=0.996, Valid_Loss=0.115]\n"
     ]
    },
    {
     "name": "stdout",
     "output_type": "stream",
     "text": [
      "epoch: 1, LOSS = 0.11485563482557025, CV(Acc) = 0.9961904761904762\n",
      "\u001b[34mepoch: 1, Validation CV(Acc) Improved (0 ---> 0.9961904761904762))\n",
      "Model Saved\u001b[0m\n",
      "\n"
     ]
    },
    {
     "name": "stderr",
     "output_type": "stream",
     "text": [
      "100%|██████████| 132/132 [00:25<00:00,  5.15it/s, Epoch=2, LR=1.57e-6, Train_ACC=1, Train_Loss=0.103]\n",
      "100%|██████████| 17/17 [00:05<00:00,  3.06it/s, Epoch=2, LR=1.57e-6, Valid_ACC=0.996, Valid_Loss=0.115]"
     ]
    },
    {
     "name": "stdout",
     "output_type": "stream",
     "text": [
      "epoch: 2, LOSS = 0.11450958085911614, CV(Acc) = 0.9961904761904762\n",
      "\u001b[34mepoch: 2, Validation CV(Acc) Improved (0.9961904761904762 ---> 0.9961904761904762))\n",
      "Model Saved\u001b[0m\n",
      "\n",
      "Training complete in 0h 1m 3s\n",
      "Best CV(Acc): 0.9962\n"
     ]
    },
    {
     "name": "stderr",
     "output_type": "stream",
     "text": [
      "\n",
      "100%|██████████| 17/17 [00:05<00:00,  3.26it/s]\n"
     ]
    },
    {
     "name": "stdout",
     "output_type": "stream",
     "text": [
      "\n",
      "================================ Fold 1 start training ================================\n",
      "[INFO] Using GPU: Tesla T4 x 2\n",
      "\n"
     ]
    },
    {
     "name": "stderr",
     "output_type": "stream",
     "text": [
      "100%|██████████| 132/132 [00:25<00:00,  5.20it/s, Epoch=1, LR=0.001, Train_ACC=1, Train_Loss=0.103]\n",
      "100%|██████████| 17/17 [00:05<00:00,  3.07it/s, Epoch=1, LR=0.001, Valid_ACC=0.995, Valid_Loss=0.117]\n"
     ]
    },
    {
     "name": "stdout",
     "output_type": "stream",
     "text": [
      "epoch: 1, LOSS = 0.11665443918534688, CV(Acc) = 0.9947619047619047\n",
      "\u001b[34mepoch: 1, Validation CV(Acc) Improved (0 ---> 0.9947619047619047))\n",
      "Model Saved\u001b[0m\n",
      "\n"
     ]
    },
    {
     "name": "stderr",
     "output_type": "stream",
     "text": [
      "100%|██████████| 132/132 [00:25<00:00,  5.27it/s, Epoch=2, LR=1.57e-6, Train_ACC=1, Train_Loss=0.103]\n",
      "100%|██████████| 17/17 [00:05<00:00,  3.12it/s, Epoch=2, LR=1.57e-6, Valid_ACC=0.995, Valid_Loss=0.116]"
     ]
    },
    {
     "name": "stdout",
     "output_type": "stream",
     "text": [
      "epoch: 2, LOSS = 0.116457387365046, CV(Acc) = 0.9947619047619047\n",
      "\u001b[34mepoch: 2, Validation CV(Acc) Improved (0.9947619047619047 ---> 0.9947619047619047))\n",
      "Model Saved\u001b[0m\n",
      "\n",
      "Training complete in 0h 1m 2s\n",
      "Best CV(Acc): 0.9948\n"
     ]
    },
    {
     "name": "stderr",
     "output_type": "stream",
     "text": [
      "\n",
      "100%|██████████| 17/17 [00:05<00:00,  3.25it/s]\n"
     ]
    },
    {
     "name": "stdout",
     "output_type": "stream",
     "text": [
      "\n",
      "================================ Fold 2 start training ================================\n",
      "[INFO] Using GPU: Tesla T4 x 2\n",
      "\n"
     ]
    },
    {
     "name": "stderr",
     "output_type": "stream",
     "text": [
      "100%|██████████| 132/132 [00:24<00:00,  5.29it/s, Epoch=1, LR=0.001, Train_ACC=0.999, Train_Loss=0.101]\n",
      "100%|██████████| 17/17 [00:05<00:00,  3.03it/s, Epoch=1, LR=0.001, Valid_ACC=0.996, Valid_Loss=0.113]\n"
     ]
    },
    {
     "name": "stdout",
     "output_type": "stream",
     "text": [
      "epoch: 1, LOSS = 0.11279366327183588, CV(Acc) = 0.9957142857142857\n",
      "\u001b[34mepoch: 1, Validation CV(Acc) Improved (0 ---> 0.9957142857142857))\n",
      "Model Saved\u001b[0m\n",
      "\n"
     ]
    },
    {
     "name": "stderr",
     "output_type": "stream",
     "text": [
      "100%|██████████| 132/132 [00:25<00:00,  5.26it/s, Epoch=2, LR=1.57e-6, Train_ACC=0.999, Train_Loss=0.101]\n",
      "100%|██████████| 17/17 [00:05<00:00,  3.08it/s, Epoch=2, LR=1.57e-6, Valid_ACC=0.995, Valid_Loss=0.113]"
     ]
    },
    {
     "name": "stdout",
     "output_type": "stream",
     "text": [
      "epoch: 2, LOSS = 0.11254134128491083, CV(Acc) = 0.9953571428571428\n",
      "\n",
      "Training complete in 0h 1m 2s\n",
      "Best CV(Acc): 0.9957\n"
     ]
    },
    {
     "name": "stderr",
     "output_type": "stream",
     "text": [
      "\n",
      "100%|██████████| 17/17 [00:05<00:00,  3.23it/s]\n"
     ]
    },
    {
     "name": "stdout",
     "output_type": "stream",
     "text": [
      "\n",
      "================================ Fold 3 start training ================================\n",
      "[INFO] Using GPU: Tesla T4 x 2\n",
      "\n"
     ]
    },
    {
     "name": "stderr",
     "output_type": "stream",
     "text": [
      "100%|██████████| 132/132 [00:25<00:00,  5.26it/s, Epoch=1, LR=0.001, Train_ACC=1, Train_Loss=0.102]\n",
      "100%|██████████| 17/17 [00:05<00:00,  3.05it/s, Epoch=1, LR=0.001, Valid_ACC=0.994, Valid_Loss=0.117]\n"
     ]
    },
    {
     "name": "stdout",
     "output_type": "stream",
     "text": [
      "epoch: 1, LOSS = 0.11715219171274276, CV(Acc) = 0.9941666666666666\n",
      "\u001b[34mepoch: 1, Validation CV(Acc) Improved (0 ---> 0.9941666666666666))\n",
      "Model Saved\u001b[0m\n",
      "\n"
     ]
    },
    {
     "name": "stderr",
     "output_type": "stream",
     "text": [
      "100%|██████████| 132/132 [00:24<00:00,  5.28it/s, Epoch=2, LR=1.57e-6, Train_ACC=0.999, Train_Loss=0.102]\n",
      "100%|██████████| 17/17 [00:05<00:00,  3.09it/s, Epoch=2, LR=1.57e-6, Valid_ACC=0.994, Valid_Loss=0.117]"
     ]
    },
    {
     "name": "stdout",
     "output_type": "stream",
     "text": [
      "epoch: 2, LOSS = 0.11677759993643988, CV(Acc) = 0.9940476190476191\n",
      "\n",
      "Training complete in 0h 1m 2s\n",
      "Best CV(Acc): 0.9942\n"
     ]
    },
    {
     "name": "stderr",
     "output_type": "stream",
     "text": [
      "\n",
      "100%|██████████| 17/17 [00:05<00:00,  3.29it/s]\n"
     ]
    },
    {
     "name": "stdout",
     "output_type": "stream",
     "text": [
      "\n",
      "================================ Fold 4 start training ================================\n",
      "[INFO] Using GPU: Tesla T4 x 2\n",
      "\n"
     ]
    },
    {
     "name": "stderr",
     "output_type": "stream",
     "text": [
      "100%|██████████| 132/132 [00:26<00:00,  5.03it/s, Epoch=1, LR=0.001, Train_ACC=1, Train_Loss=0.0972]\n",
      "100%|██████████| 17/17 [00:05<00:00,  3.08it/s, Epoch=1, LR=0.001, Valid_ACC=0.995, Valid_Loss=0.11]\n"
     ]
    },
    {
     "name": "stdout",
     "output_type": "stream",
     "text": [
      "epoch: 1, LOSS = 0.11005422949790955, CV(Acc) = 0.9946428571428572\n",
      "\u001b[34mepoch: 1, Validation CV(Acc) Improved (0 ---> 0.9946428571428572))\n",
      "Model Saved\u001b[0m\n",
      "\n"
     ]
    },
    {
     "name": "stderr",
     "output_type": "stream",
     "text": [
      "100%|██████████| 132/132 [00:25<00:00,  5.21it/s, Epoch=2, LR=1.57e-6, Train_ACC=1, Train_Loss=0.0971]\n",
      "100%|██████████| 17/17 [00:05<00:00,  3.07it/s, Epoch=2, LR=1.57e-6, Valid_ACC=0.995, Valid_Loss=0.11]"
     ]
    },
    {
     "name": "stdout",
     "output_type": "stream",
     "text": [
      "epoch: 2, LOSS = 0.11003214081128439, CV(Acc) = 0.9946428571428572\n",
      "\u001b[34mepoch: 2, Validation CV(Acc) Improved (0.9946428571428572 ---> 0.9946428571428572))\n",
      "Model Saved\u001b[0m\n",
      "\n",
      "Training complete in 0h 1m 3s\n",
      "Best CV(Acc): 0.9946\n"
     ]
    },
    {
     "name": "stderr",
     "output_type": "stream",
     "text": [
      "\n",
      "100%|██████████| 17/17 [00:05<00:00,  3.22it/s]"
     ]
    },
    {
     "name": "stdout",
     "output_type": "stream",
     "text": [
      "\n"
     ]
    },
    {
     "name": "stderr",
     "output_type": "stream",
     "text": [
      "\n"
     ]
    }
   ],
   "source": [
    "oof = []\n",
    "true = []\n",
    "historys = []\n",
    "\n",
    "for fold in range(CONFIG.n_folds):\n",
    "    print(f\"================================ Fold {fold} start training ================================\")\n",
    "    del model # 将上一个fold的模型删除，重新初始化模型训练当前的fold\n",
    "    torch.cuda.empty_cache()\n",
    "    model = ensemblemodel(n_models=len(CONFIG.model_names))\n",
    "    if CONFIG.is_DataParallel:\n",
    "        device_ids = [0, 1] # 一共使用两张卡，编号为 0和1\n",
    "        model = torch.nn.DataParallel(model, device_ids=device_ids) # 将模型并行化到2张卡上\n",
    "        model = model.cuda()\n",
    "    else:\n",
    "        model = model.to(CONFIG.device)\n",
    "        \n",
    "    optimizer = torch.optim.AdamW(model.parameters(), lr=CONFIG.learning_rate, \n",
    "                                  weight_decay=CONFIG.weight_decay)\n",
    "    scheduler = fetch_scheduler(optimizer, T_max=CONFIG.T_max, min_lr=CONFIG.min_lr)\n",
    "    \n",
    "    dl_models = []\n",
    "    for n_model in range(len(CONFIG.model_names)):\n",
    "        dl_models.append(total_models[n_model][fold])\n",
    "    \n",
    "    train_loader, valid_loader = prepare_loaders_train(train, fold)\n",
    "    model, history, best_model_path = run_training(fold, model, dl_models, optimizer, scheduler, train_loader, valid_loader, \n",
    "                                                   num_epochs=CONFIG.epochs, now_cv=CONFIG.now_cv)\n",
    "    historys.append(history)\n",
    "    \n",
    "    # 这一个fold的训练完成后，对这个fold的验证集进行推理，用于计算后面的 oof折外预测\n",
    "    bar = tqdm(enumerate(valid_loader), total=len(valid_loader))\n",
    "    with torch.no_grad():\n",
    "        for step, (images, labels) in bar:\n",
    "            batch_size = images.size(0)\n",
    "            if CONFIG.is_DataParallel:\n",
    "                images = images.cuda().float()\n",
    "                labels = labels.cuda().float()\n",
    "            else:\n",
    "                images = images.to(CONFIG.device, dtype=torch.float)\n",
    "                labels = labels.to(CONFIG.device, dtype=torch.float)\n",
    "                \n",
    "            # 构建 ensemble 模型的输入\n",
    "            ensemble_input = []\n",
    "            for dl_model in dl_models:\n",
    "                dl_pred = dl_model(images) # (batch, 10)\n",
    "                ensemble_input.append(dl_pred.unsqueeze(1)) # (batch, 10) ---> (batch, 1, 10)\n",
    "            ensemble_input = torch.cat(ensemble_input, axis=1)\n",
    "\n",
    "            outputs = model(ensemble_input)\n",
    "            outputs = F.softmax(outputs).argmax(1)\n",
    "            \n",
    "            oof.append(outputs.flatten().detach().cpu().numpy())\n",
    "            true.append(labels.detach().cpu().numpy())\n",
    "        print() # 换行"
   ]
  },
  {
   "cell_type": "markdown",
   "id": "bfb529c1",
   "metadata": {
    "papermill": {
     "duration": 0.265556,
     "end_time": "2024-11-01T08:55:47.118335",
     "exception": false,
     "start_time": "2024-11-01T08:55:46.852779",
     "status": "completed"
    },
    "tags": []
   },
   "source": [
    "## Local CV"
   ]
  },
  {
   "cell_type": "code",
   "execution_count": 22,
   "id": "e79ee77d",
   "metadata": {
    "execution": {
     "iopub.execute_input": "2024-11-01T08:55:47.637939Z",
     "iopub.status.busy": "2024-11-01T08:55:47.637537Z",
     "iopub.status.idle": "2024-11-01T08:55:47.643819Z",
     "shell.execute_reply": "2024-11-01T08:55:47.642852Z"
    },
    "papermill": {
     "duration": 0.266177,
     "end_time": "2024-11-01T08:55:47.645770",
     "exception": false,
     "start_time": "2024-11-01T08:55:47.379593",
     "status": "completed"
    },
    "tags": []
   },
   "outputs": [],
   "source": [
    "oof = np.concatenate(oof)\n",
    "true = np.concatenate(true)"
   ]
  },
  {
   "cell_type": "code",
   "execution_count": 23,
   "id": "586d1e26",
   "metadata": {
    "execution": {
     "iopub.execute_input": "2024-11-01T08:55:48.218232Z",
     "iopub.status.busy": "2024-11-01T08:55:48.217860Z",
     "iopub.status.idle": "2024-11-01T08:55:48.223552Z",
     "shell.execute_reply": "2024-11-01T08:55:48.222531Z"
    },
    "papermill": {
     "duration": 0.31553,
     "end_time": "2024-11-01T08:55:48.225802",
     "exception": false,
     "start_time": "2024-11-01T08:55:47.910272",
     "status": "completed"
    },
    "tags": []
   },
   "outputs": [
    {
     "name": "stdout",
     "output_type": "stream",
     "text": [
      "Local CV :  0.9950952380952381\n"
     ]
    }
   ],
   "source": [
    "local_cv = cal_ACC(true, oof)\n",
    "print(\"Local CV : \", local_cv)"
   ]
  },
  {
   "cell_type": "markdown",
   "id": "12a2dc68",
   "metadata": {
    "papermill": {
     "duration": 0.263523,
     "end_time": "2024-11-01T08:55:48.752000",
     "exception": false,
     "start_time": "2024-11-01T08:55:48.488477",
     "status": "completed"
    },
    "tags": []
   },
   "source": [
    "## Logs"
   ]
  },
  {
   "cell_type": "code",
   "execution_count": 24,
   "id": "102e9902",
   "metadata": {
    "execution": {
     "iopub.execute_input": "2024-11-01T08:55:49.291800Z",
     "iopub.status.busy": "2024-11-01T08:55:49.291411Z",
     "iopub.status.idle": "2024-11-01T08:55:49.295919Z",
     "shell.execute_reply": "2024-11-01T08:55:49.295035Z"
    },
    "papermill": {
     "duration": 0.281979,
     "end_time": "2024-11-01T08:55:49.298185",
     "exception": false,
     "start_time": "2024-11-01T08:55:49.016206",
     "status": "completed"
    },
    "tags": []
   },
   "outputs": [],
   "source": [
    "fold = 0\n",
    "history = historys[fold]"
   ]
  },
  {
   "cell_type": "code",
   "execution_count": 25,
   "id": "d08d08e6",
   "metadata": {
    "execution": {
     "iopub.execute_input": "2024-11-01T08:55:49.839852Z",
     "iopub.status.busy": "2024-11-01T08:55:49.839222Z",
     "iopub.status.idle": "2024-11-01T08:55:50.136769Z",
     "shell.execute_reply": "2024-11-01T08:55:50.135791Z"
    },
    "papermill": {
     "duration": 0.562532,
     "end_time": "2024-11-01T08:55:50.138969",
     "exception": false,
     "start_time": "2024-11-01T08:55:49.576437",
     "status": "completed"
    },
    "tags": []
   },
   "outputs": [
    {
     "data": {
      "image/png": "[encoded data removed]",
      "text/plain": [
       "<Figure size 640x480 with 1 Axes>"
      ]
     },
     "metadata": {},
     "output_type": "display_data"
    }
   ],
   "source": [
    "plt.plot( range(len(history[\"Train Loss\"])), history[\"Train Loss\"], label=\"Train Loss\")\n",
    "plt.plot( range(len(history[\"Valid Loss\"])), history[\"Valid Loss\"], label=\"Valid Loss\")\n",
    "plt.xlabel(\"epochs\")\n",
    "plt.ylabel(\"Loss\")\n",
    "plt.grid()\n",
    "plt.legend()\n",
    "plt.show()"
   ]
  },
  {
   "cell_type": "code",
   "execution_count": 26,
   "id": "d0db07c5",
   "metadata": {
    "execution": {
     "iopub.execute_input": "2024-11-01T08:55:50.697551Z",
     "iopub.status.busy": "2024-11-01T08:55:50.696881Z",
     "iopub.status.idle": "2024-11-01T08:55:50.968595Z",
     "shell.execute_reply": "2024-11-01T08:55:50.967694Z"
    },
    "papermill": {
     "duration": 0.569199,
     "end_time": "2024-11-01T08:55:50.970531",
     "exception": false,
     "start_time": "2024-11-01T08:55:50.401332",
     "status": "completed"
    },
    "tags": []
   },
   "outputs": [
    {
     "data": {
      "image/png": "[encoded data removed]",
      "text/plain": [
       "<Figure size 640x480 with 1 Axes>"
      ]
     },
     "metadata": {},
     "output_type": "display_data"
    }
   ],
   "source": [
    "plt.plot( range(len(history[\"Train CV(Acc)\"])), history[\"Train CV(Acc)\"], label=\"Train CV(Acc)\")\n",
    "plt.plot( range(len(history[\"Valid CV(Acc)\"])), history[\"Valid CV(Acc)\"], label=\"Valid CV(Acc)\")\n",
    "plt.xlabel(\"epochs\")\n",
    "plt.ylabel(\"CV(Acc)\")\n",
    "plt.grid()\n",
    "plt.legend()\n",
    "plt.show()"
   ]
  },
  {
   "cell_type": "code",
   "execution_count": 27,
   "id": "5ee5b85a",
   "metadata": {
    "execution": {
     "iopub.execute_input": "2024-11-01T08:55:51.494772Z",
     "iopub.status.busy": "2024-11-01T08:55:51.494398Z",
     "iopub.status.idle": "2024-11-01T08:55:51.687697Z",
     "shell.execute_reply": "2024-11-01T08:55:51.686706Z"
    },
    "papermill": {
     "duration": 0.45665,
     "end_time": "2024-11-01T08:55:51.689710",
     "exception": false,
     "start_time": "2024-11-01T08:55:51.233060",
     "status": "completed"
    },
    "tags": []
   },
   "outputs": [
    {
     "data": {
      "image/png": "[encoded data removed]",
      "text/plain": [
       "<Figure size 640x480 with 1 Axes>"
      ]
     },
     "metadata": {},
     "output_type": "display_data"
    }
   ],
   "source": [
    "plt.plot( range(len(history[\"lr\"])), history[\"lr\"], label=\"lr\")\n",
    "plt.xlabel(\"epochs\")\n",
    "plt.ylabel(\"lr\")\n",
    "plt.grid()\n",
    "plt.legend()\n",
    "plt.show()"
   ]
  },
  {
   "cell_type": "markdown",
   "id": "dadeb971",
   "metadata": {
    "papermill": {
     "duration": 0.263011,
     "end_time": "2024-11-01T08:55:52.214868",
     "exception": false,
     "start_time": "2024-11-01T08:55:51.951857",
     "status": "completed"
    },
    "tags": []
   },
   "source": [
    "# Infer Part"
   ]
  },
  {
   "cell_type": "code",
   "execution_count": 28,
   "id": "0d890726",
   "metadata": {
    "execution": {
     "iopub.execute_input": "2024-11-01T08:55:52.735667Z",
     "iopub.status.busy": "2024-11-01T08:55:52.734944Z",
     "iopub.status.idle": "2024-11-01T08:55:52.751548Z",
     "shell.execute_reply": "2024-11-01T08:55:52.750556Z"
    },
    "papermill": {
     "duration": 0.278857,
     "end_time": "2024-11-01T08:55:52.753601",
     "exception": false,
     "start_time": "2024-11-01T08:55:52.474744",
     "status": "completed"
    },
    "tags": []
   },
   "outputs": [
    {
     "name": "stdout",
     "output_type": "stream",
     "text": [
      "['Fold_0_CV_0.9962_Loss0.1149_epoch1.bin', 'Fold_1_CV_0.9948_Loss0.1165_epoch2.bin', 'Fold_2_CV_0.9957_Loss0.1128_epoch1.bin', 'Fold_3_CV_0.9942_Loss0.1172_epoch1.bin', 'Fold_4_CV_0.9946_Loss0.1101_epoch1.bin']\n",
      "fold : 0 --------- path : Fold_0_CV_0.9950_Loss0.1101_epoch10.bin\n",
      "fold : 1 --------- path : Fold_1_CV_0.9943_Loss0.1117_epoch9.bin\n",
      "fold : 2 --------- path : Fold_2_CV_0.9952_Loss0.1109_epoch7.bin\n",
      "fold : 3 --------- path : Fold_3_CV_0.9939_Loss0.1139_epoch10.bin\n",
      "fold : 4 --------- path : Fold_4_CV_0.9948_Loss0.1101_epoch9.bin\n"
     ]
    }
   ],
   "source": [
    "ensemblemodel_path = []\n",
    "\n",
    "all_paths = os.listdir(CONFIG.ckpt_save_path)\n",
    "for fold in range(CONFIG.n_folds):\n",
    "    fold_paths = []\n",
    "    for path in all_paths:\n",
    "        if f\"Fold_{fold}\" in path:\n",
    "            fold_paths.append(path)\n",
    "    fold_paths = sorted(fold_paths, key=lambda x: float(x.split(\"_\")[3]))\n",
    "    ensemblemodel_path.append(fold_paths[-1])\n",
    "print(ensemblemodel_path)\n",
    "    \n",
    "ensemble_models = []\n",
    "\n",
    "if CONFIG.is_DataParallel:\n",
    "    device_ids = [0, 1]\n",
    "    for i in range(CONFIG.n_folds):\n",
    "        model = ensemblemodel(n_models=len(CONFIG.model_names))\n",
    "        model = torch.nn.DataParallel(model, device_ids=device_ids)\n",
    "        model = model.cuda()\n",
    "        model.load_state_dict(torch.load(os.path.join(CONFIG.ckpt_save_path, ensemblemodel_path[i])))\n",
    "        print(f\"fold : {i} --------- path : {paths[i]}\")\n",
    "        model.eval()\n",
    "        ensemble_models.append(model)\n",
    "else:\n",
    "    for i in range(CONFIG.n_folds):\n",
    "        model = ensemblemodel(n_models=len(CONFIG.model_names))\n",
    "        model = model.cuda()\n",
    "        model.load_state_dict(torch.load(os.path.join(CONFIG.ckpt_save_path, ensemblemodel_path[i])))\n",
    "        print(f\"fold : {i} --------- path : {paths[i]}\")\n",
    "        model.eval()\n",
    "        ensemble_models.append(model)"
   ]
  },
  {
   "cell_type": "markdown",
   "id": "091e9354",
   "metadata": {
    "papermill": {
     "duration": 0.300704,
     "end_time": "2024-11-01T08:55:53.314636",
     "exception": false,
     "start_time": "2024-11-01T08:55:53.013932",
     "status": "completed"
    },
    "tags": []
   },
   "source": [
    "## Infer Function"
   ]
  },
  {
   "cell_type": "code",
   "execution_count": 29,
   "id": "609e9fbd",
   "metadata": {
    "execution": {
     "iopub.execute_input": "2024-11-01T08:55:53.839244Z",
     "iopub.status.busy": "2024-11-01T08:55:53.838600Z",
     "iopub.status.idle": "2024-11-01T08:55:53.847227Z",
     "shell.execute_reply": "2024-11-01T08:55:53.846335Z"
    },
    "papermill": {
     "duration": 0.274784,
     "end_time": "2024-11-01T08:55:53.849131",
     "exception": false,
     "start_time": "2024-11-01T08:55:53.574347",
     "status": "completed"
    },
    "tags": []
   },
   "outputs": [],
   "source": [
    "def Infer(model, dl_models, test_loader):\n",
    "    model.eval()\n",
    "    \n",
    "    y_preds = []\n",
    "    bar = tqdm(enumerate(test_loader), total=len(test_loader))\n",
    "    with torch.no_grad():\n",
    "        for step, (images, img_id) in bar:\n",
    "\n",
    "            if CONFIG.is_DataParallel:\n",
    "                images = images.cuda().float()\n",
    "            else:\n",
    "                images = images.to(CONFIG.device, dtype=torch.float)\n",
    "            \n",
    "            # 构建 ensemble 模型的输入\n",
    "            ensemble_input = []\n",
    "            for dl_model in dl_models:\n",
    "                dl_pred = dl_model(images) # (batch, 10)\n",
    "                ensemble_input.append(dl_pred.unsqueeze(1)) # (batch, 10) ---> (batch, 1, 10)\n",
    "            ensemble_input = torch.cat(ensemble_input, axis=1)\n",
    "\n",
    "            outputs = model(ensemble_input)\n",
    "\n",
    "            y_preds.append(outputs.detach().cpu().numpy())\n",
    "            \n",
    "    y_preds = np.concatenate(y_preds) # 因为最后要做每个fold 训练出来的模型的结果的融合，所以这里返回模型预测的每一类的概率值，不经过softmax，也不取 argmax\n",
    "\n",
    "    return y_preds"
   ]
  },
  {
   "cell_type": "markdown",
   "id": "29e4d959",
   "metadata": {
    "papermill": {
     "duration": 0.26383,
     "end_time": "2024-11-01T08:55:54.375065",
     "exception": false,
     "start_time": "2024-11-01T08:55:54.111235",
     "status": "completed"
    },
    "tags": []
   },
   "source": [
    "## Start Infer"
   ]
  },
  {
   "cell_type": "code",
   "execution_count": 30,
   "id": "574455a7",
   "metadata": {
    "execution": {
     "iopub.execute_input": "2024-11-01T08:55:54.949269Z",
     "iopub.status.busy": "2024-11-01T08:55:54.948915Z",
     "iopub.status.idle": "2024-11-01T08:57:12.007596Z",
     "shell.execute_reply": "2024-11-01T08:57:12.006321Z"
    },
    "papermill": {
     "duration": 77.352249,
     "end_time": "2024-11-01T08:57:12.010151",
     "exception": false,
     "start_time": "2024-11-01T08:55:54.657902",
     "status": "completed"
    },
    "tags": []
   },
   "outputs": [
    {
     "name": "stderr",
     "output_type": "stream",
     "text": [
      "100%|██████████| 55/55 [00:15<00:00,  3.65it/s]\n",
      "100%|██████████| 55/55 [00:15<00:00,  3.59it/s]\n",
      "100%|██████████| 55/55 [00:15<00:00,  3.61it/s]\n",
      "100%|██████████| 55/55 [00:15<00:00,  3.58it/s]\n",
      "100%|██████████| 55/55 [00:15<00:00,  3.49it/s]\n"
     ]
    }
   ],
   "source": [
    "# test preds\n",
    "total_test_pred = []\n",
    "\n",
    "test_loader = prepare_loaders_test()\n",
    "\n",
    "for fold in range(0, CONFIG.n_folds):\n",
    "    dl_models = []\n",
    "    for n_model in range(len(CONFIG.model_names)):\n",
    "        dl_models.append(total_models[n_model][fold])\n",
    "        \n",
    "    preds = Infer(ensemble_models[fold], dl_models, test_loader)\n",
    "    total_test_pred.append(preds)\n",
    "    \n",
    "total_test_pred = np.mean(total_test_pred, axis=0) # 将每一个 fold的模型输出的结果进行均值融合\n",
    "total_test_pred = F.softmax(torch.from_numpy(total_test_pred)).numpy() # 对融合的结果进行 softmax转换为概率值\n",
    "y_preds = total_test_pred.argmax(1) # 取概率值最高的一类作为预测值"
   ]
  },
  {
   "cell_type": "markdown",
   "id": "273ed8e2",
   "metadata": {
    "papermill": {
     "duration": 0.323496,
     "end_time": "2024-11-01T08:57:12.648523",
     "exception": false,
     "start_time": "2024-11-01T08:57:12.325027",
     "status": "completed"
    },
    "tags": []
   },
   "source": [
    "## Make Submission"
   ]
  },
  {
   "cell_type": "code",
   "execution_count": 31,
   "id": "f99872cb",
   "metadata": {
    "execution": {
     "iopub.execute_input": "2024-11-01T08:57:13.221688Z",
     "iopub.status.busy": "2024-11-01T08:57:13.221248Z",
     "iopub.status.idle": "2024-11-01T08:57:13.238393Z",
     "shell.execute_reply": "2024-11-01T08:57:13.237517Z"
    },
    "papermill": {
     "duration": 0.307298,
     "end_time": "2024-11-01T08:57:13.240248",
     "exception": false,
     "start_time": "2024-11-01T08:57:12.932950",
     "status": "completed"
    },
    "tags": []
   },
   "outputs": [
    {
     "data": {
      "text/html": [
       "<div>\n",
       "<style scoped>\n",
       "    .dataframe tbody tr th:only-of-type {\n",
       "        vertical-align: middle;\n",
       "    }\n",
       "\n",
       "    .dataframe tbody tr th {\n",
       "        vertical-align: top;\n",
       "    }\n",
       "\n",
       "    .dataframe thead th {\n",
       "        text-align: right;\n",
       "    }\n",
       "</style>\n",
       "<table border=\"1\" class=\"dataframe\">\n",
       "  <thead>\n",
       "    <tr style=\"text-align: right;\">\n",
       "      <th></th>\n",
       "      <th>ImageId</th>\n",
       "      <th>Label</th>\n",
       "    </tr>\n",
       "  </thead>\n",
       "  <tbody>\n",
       "    <tr>\n",
       "      <th>0</th>\n",
       "      <td>1</td>\n",
       "      <td>2</td>\n",
       "    </tr>\n",
       "    <tr>\n",
       "      <th>1</th>\n",
       "      <td>2</td>\n",
       "      <td>0</td>\n",
       "    </tr>\n",
       "    <tr>\n",
       "      <th>2</th>\n",
       "      <td>3</td>\n",
       "      <td>9</td>\n",
       "    </tr>\n",
       "    <tr>\n",
       "      <th>3</th>\n",
       "      <td>4</td>\n",
       "      <td>0</td>\n",
       "    </tr>\n",
       "    <tr>\n",
       "      <th>4</th>\n",
       "      <td>5</td>\n",
       "      <td>3</td>\n",
       "    </tr>\n",
       "    <tr>\n",
       "      <th>...</th>\n",
       "      <td>...</td>\n",
       "      <td>...</td>\n",
       "    </tr>\n",
       "    <tr>\n",
       "      <th>27995</th>\n",
       "      <td>27996</td>\n",
       "      <td>9</td>\n",
       "    </tr>\n",
       "    <tr>\n",
       "      <th>27996</th>\n",
       "      <td>27997</td>\n",
       "      <td>7</td>\n",
       "    </tr>\n",
       "    <tr>\n",
       "      <th>27997</th>\n",
       "      <td>27998</td>\n",
       "      <td>3</td>\n",
       "    </tr>\n",
       "    <tr>\n",
       "      <th>27998</th>\n",
       "      <td>27999</td>\n",
       "      <td>9</td>\n",
       "    </tr>\n",
       "    <tr>\n",
       "      <th>27999</th>\n",
       "      <td>28000</td>\n",
       "      <td>2</td>\n",
       "    </tr>\n",
       "  </tbody>\n",
       "</table>\n",
       "<p>28000 rows × 2 columns</p>\n",
       "</div>"
      ],
      "text/plain": [
       "       ImageId  Label\n",
       "0            1      2\n",
       "1            2      0\n",
       "2            3      9\n",
       "3            4      0\n",
       "4            5      3\n",
       "...        ...    ...\n",
       "27995    27996      9\n",
       "27996    27997      7\n",
       "27997    27998      3\n",
       "27998    27999      9\n",
       "27999    28000      2\n",
       "\n",
       "[28000 rows x 2 columns]"
      ]
     },
     "execution_count": 31,
     "metadata": {},
     "output_type": "execute_result"
    }
   ],
   "source": [
    "sub = pd.DataFrame()\n",
    "sub[\"ImageId\"] = test.index + 1\n",
    "sub[\"Label\"] = y_preds\n",
    "sub"
   ]
  },
  {
   "cell_type": "code",
   "execution_count": 32,
   "id": "8ec8041f",
   "metadata": {
    "execution": {
     "iopub.execute_input": "2024-11-01T08:57:13.805863Z",
     "iopub.status.busy": "2024-11-01T08:57:13.805020Z",
     "iopub.status.idle": "2024-11-01T08:57:13.858469Z",
     "shell.execute_reply": "2024-11-01T08:57:13.857444Z"
    },
    "papermill": {
     "duration": 0.339839,
     "end_time": "2024-11-01T08:57:13.860767",
     "exception": false,
     "start_time": "2024-11-01T08:57:13.520928",
     "status": "completed"
    },
    "tags": []
   },
   "outputs": [
    {
     "data": {
      "text/html": [
       "<div>\n",
       "<style scoped>\n",
       "    .dataframe tbody tr th:only-of-type {\n",
       "        vertical-align: middle;\n",
       "    }\n",
       "\n",
       "    .dataframe tbody tr th {\n",
       "        vertical-align: top;\n",
       "    }\n",
       "\n",
       "    .dataframe thead th {\n",
       "        text-align: right;\n",
       "    }\n",
       "</style>\n",
       "<table border=\"1\" class=\"dataframe\">\n",
       "  <thead>\n",
       "    <tr style=\"text-align: right;\">\n",
       "      <th></th>\n",
       "      <th>ImageId</th>\n",
       "      <th>Label</th>\n",
       "    </tr>\n",
       "  </thead>\n",
       "  <tbody>\n",
       "    <tr>\n",
       "      <th>0</th>\n",
       "      <td>1</td>\n",
       "      <td>2</td>\n",
       "    </tr>\n",
       "    <tr>\n",
       "      <th>1</th>\n",
       "      <td>2</td>\n",
       "      <td>0</td>\n",
       "    </tr>\n",
       "    <tr>\n",
       "      <th>2</th>\n",
       "      <td>3</td>\n",
       "      <td>9</td>\n",
       "    </tr>\n",
       "    <tr>\n",
       "      <th>3</th>\n",
       "      <td>4</td>\n",
       "      <td>0</td>\n",
       "    </tr>\n",
       "    <tr>\n",
       "      <th>4</th>\n",
       "      <td>5</td>\n",
       "      <td>3</td>\n",
       "    </tr>\n",
       "    <tr>\n",
       "      <th>...</th>\n",
       "      <td>...</td>\n",
       "      <td>...</td>\n",
       "    </tr>\n",
       "    <tr>\n",
       "      <th>27995</th>\n",
       "      <td>27996</td>\n",
       "      <td>9</td>\n",
       "    </tr>\n",
       "    <tr>\n",
       "      <th>27996</th>\n",
       "      <td>27997</td>\n",
       "      <td>7</td>\n",
       "    </tr>\n",
       "    <tr>\n",
       "      <th>27997</th>\n",
       "      <td>27998</td>\n",
       "      <td>3</td>\n",
       "    </tr>\n",
       "    <tr>\n",
       "      <th>27998</th>\n",
       "      <td>27999</td>\n",
       "      <td>9</td>\n",
       "    </tr>\n",
       "    <tr>\n",
       "      <th>27999</th>\n",
       "      <td>28000</td>\n",
       "      <td>2</td>\n",
       "    </tr>\n",
       "  </tbody>\n",
       "</table>\n",
       "<p>28000 rows × 2 columns</p>\n",
       "</div>"
      ],
      "text/plain": [
       "       ImageId  Label\n",
       "0            1      2\n",
       "1            2      0\n",
       "2            3      9\n",
       "3            4      0\n",
       "4            5      3\n",
       "...        ...    ...\n",
       "27995    27996      9\n",
       "27996    27997      7\n",
       "27997    27998      3\n",
       "27998    27999      9\n",
       "27999    28000      2\n",
       "\n",
       "[28000 rows x 2 columns]"
      ]
     },
     "execution_count": 32,
     "metadata": {},
     "output_type": "execute_result"
    }
   ],
   "source": [
    "sub.to_csv('submission.csv', index=False)\n",
    "pd.read_csv('submission.csv')"
   ]
  },
  {
   "cell_type": "code",
   "execution_count": null,
   "id": "0a7d0f3e",
   "metadata": {
    "papermill": {
     "duration": 0.286592,
     "end_time": "2024-11-01T08:57:14.462136",
     "exception": false,
     "start_time": "2024-11-01T08:57:14.175544",
     "status": "completed"
    },
    "tags": []
   },
   "outputs": [],
   "source": []
  },
  {
   "cell_type": "code",
   "execution_count": null,
   "id": "7a5be66c",
   "metadata": {
    "papermill": {
     "duration": 0.286323,
     "end_time": "2024-11-01T08:57:15.069621",
     "exception": false,
     "start_time": "2024-11-01T08:57:14.783298",
     "status": "completed"
    },
    "tags": []
   },
   "outputs": [],
   "source": []
  },
  {
   "cell_type": "code",
   "execution_count": null,
   "id": "5e806b46",
   "metadata": {
    "papermill": {
     "duration": 0.282713,
     "end_time": "2024-11-01T08:57:15.641298",
     "exception": false,
     "start_time": "2024-11-01T08:57:15.358585",
     "status": "completed"
    },
    "tags": []
   },
   "outputs": [],
   "source": []
  }
 ],
 "metadata": {
  "kaggle": {
   "accelerator": "nvidiaTeslaT4",
   "dataSources": [
    {
     "databundleVersionId": 861823,
     "sourceId": 3004,
     "sourceType": "competition"
    },
    {
     "datasetId": 5965425,
     "sourceId": 9744828,
     "sourceType": "datasetVersion"
    },
    {
     "datasetId": 5989690,
     "sourceId": 9777552,
     "sourceType": "datasetVersion"
    },
    {
     "datasetId": 5989773,
     "sourceId": 9777654,
     "sourceType": "datasetVersion"
    }
   ],
   "dockerImageVersionId": 30786,
   "isGpuEnabled": true,
   "isInternetEnabled": true,
   "language": "python",
   "sourceType": "notebook"
  },
  "kernelspec": {
   "display_name": "Python 3",
   "language": "python",
   "name": "python3"
  },
  "language_info": {
   "codemirror_mode": {
    "name": "ipython",
    "version": 3
   },
   "file_extension": ".py",
   "mimetype": "text/x-python",
   "name": "python",
   "nbconvert_exporter": "python",
   "pygments_lexer": "ipython3",
   "version": "3.10.14"
  },
  "papermill": {
   "default_parameters": {},
   "duration": 456.052007,
   "end_time": "2024-11-01T08:57:18.190613",
   "environment_variables": {},
   "exception": null,
   "input_path": "__notebook__.ipynb",
   "output_path": "__notebook__.ipynb",
   "parameters": {},
   "start_time": "2024-11-01T08:49:42.138606",
   "version": "2.6.0"
  }
 },
 "nbformat": 4,
 "nbformat_minor": 5
}
